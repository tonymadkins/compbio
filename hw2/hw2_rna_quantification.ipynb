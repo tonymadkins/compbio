{
 "cells": [
  {
   "cell_type": "code",
   "execution_count": 12,
   "metadata": {},
   "outputs": [
    {
     "name": "stdout",
     "output_type": "stream",
     "text": [
      "Transcripts = ['ATCTCGACGCACTGC', 'GAGTTCGAACTCTTC', 'AGAGTTCCAGTGTCA', 'AAAGCTCACTGCGGA', 'AGCGATATCAGAGTD']\n",
      "First 5 reads = ['AGAGT', 'CACTG', 'TCGAA', 'AGCTC', 'ATCTC']\n",
      "(Real) rho = [0.2763549  0.2158966  0.03822885 0.06552442 0.40399523]\n"
     ]
    }
   ],
   "source": [
    "import numpy as np\n",
    "import matplotlib.pyplot as plt\n",
    "\n",
    "transcripts = []\n",
    "with open('transcripts.txt', 'r') as f :\n",
    "    for line in f :\n",
    "        transcripts.append(line.strip())\n",
    "\n",
    "reads = []\n",
    "with open('transcript_reads.txt', 'r') as f :\n",
    "    for line in f :\n",
    "        reads.append(line.strip())\n",
    "\n",
    "K = len(transcripts)\n",
    "N = len(reads)\n",
    "\n",
    "rho = np.array([0.2763549, 0.2158966, 0.03822885, 0.06552442, 0.40399523])\n",
    "rho /= np.sum(rho)\n",
    "\n",
    "print('Transcripts = ' + str(transcripts))\n",
    "print('First 5 reads = ' + str(reads[0:5]))\n",
    "print('(Real) rho = ' + str(rho))"
   ]
  },
  {
   "cell_type": "code",
   "execution_count": 9,
   "metadata": {},
   "outputs": [
    {
     "name": "stdout",
     "output_type": "stream",
     "text": [
      "(Real) rho = [0.2763549  0.2158966  0.03822885 0.06552442 0.40399523]\n",
      "(Est.) rho = [0.27817568 0.19989501 0.03950012 0.07982432 0.40260487]\n",
      "Final SSE = 0.000467\n"
     ]
    }
   ],
   "source": [
    "N_iter = 100 #Number of EM iterations\n",
    "\n",
    "#A: Compatibility matrix. A[i, j] = 1 iff read i aligns to transcript j\n",
    "A = np.zeros((N, K))\n",
    "F = np.zeros((N, K))\n",
    "\n",
    "#Naive alignment algorithm with no read errors\n",
    "for i in range(N) :\n",
    "    for j in range(K) :\n",
    "        if reads[i] in transcripts[j] :\n",
    "            A[i, j] = 1.\n",
    "\n",
    "#Initialization of rho as uniform\n",
    "rho_est = (1. / float(K)) * np.ones(K)\n",
    "\n",
    "# ==============================================================================\n",
    "\n",
    "#Problem 1.1\n",
    "#TODO: Implement the EM algorithm to estimate the transcript abundance of rho (which we pretend is unknown to us)\n",
    "#Save your final, updated estimates in rho_est\n",
    "\n",
    "#For each EM iteration, store the Sum-of-squares error w.r.t the true rho in this vector\n",
    "sse_per_iteration = np.ones(N_iter) * np.inf\n",
    "\n",
    "for iter in range(0, N_iter):\n",
    "    for i in range(N) :\n",
    "        for j in range(K) :\n",
    "            # E-step : assign fractional contributions\n",
    "            F[i, j] = A[i, j] * rho_est[j] / np.sum(A[i]*rho_est, axis=0)\n",
    "    # M-step : update rho estimates\n",
    "    rho_est = (1/N) * np.sum(F, axis=0)\n",
    "    # normalize rho_est\n",
    "    rho_est = rho_est / np.sum(rho_est)\n",
    "    sse_per_iteration[iter] = np.sum(np.power(rho_est - rho, 2))\n",
    "\n",
    "\n",
    "# ==============================================================================\n",
    "\n",
    "print('(Real) rho = ' + str(rho))\n",
    "print('(Est.) rho = ' + str(rho_est))\n",
    "\n",
    "print('Final SSE = ' + str(round(sse_per_iteration[-1], 6)))\n"
   ]
  },
  {
   "cell_type": "code",
   "execution_count": 11,
   "metadata": {},
   "outputs": [
    {
     "data": {
      "image/png": "[encoded data removed]",
      "text/plain": [
       "<Figure size 648x432 with 1 Axes>"
      ]
     },
     "metadata": {
      "needs_background": "light"
     },
     "output_type": "display_data"
    }
   ],
   "source": [
    "\n",
    "#Run this cell to get a plot of the Sum-of-square error between the true rho and your EM estimate\n",
    "\n",
    "f = plt.figure(figsize=(9, 6))\n",
    "\n",
    "plt.plot(np.arange(N_iter), sse_per_iteration, linewidth=2, c='darkgreen')\n",
    "\n",
    "plt.xlabel('EM iterations', fontsize=14)\n",
    "plt.ylabel('SSE (True vs. Est. rho)', fontsize=14)\n",
    "plt.xticks(fontsize=14)\n",
    "plt.yticks(fontsize=14)\n",
    "\n",
    "plt.xlim(0, N_iter - 1)\n",
    "\n",
    "plt.tight_layout()\n",
    "plt.show()\n"
   ]
  },
  {
   "cell_type": "code",
   "execution_count": null,
   "metadata": {},
   "outputs": [],
   "source": []
  }
 ],
 "metadata": {
  "kernelspec": {
   "display_name": "Python 3",
   "language": "python",
   "name": "python3"
  },
  "language_info": {
   "codemirror_mode": {
    "name": "ipython",
    "version": 3
   },
   "file_extension": ".py",
   "mimetype": "text/x-python",
   "name": "python",
   "nbconvert_exporter": "python",
   "pygments_lexer": "ipython3",
   "version": "3.7.3"
  }
 },
 "nbformat": 4,
 "nbformat_minor": 2
}
