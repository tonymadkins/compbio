{
 "cells": [
  {
   "cell_type": "code",
   "execution_count": 9,
   "metadata": {},
   "outputs": [],
   "source": [
    "import numpy as np\n",
    "import matplotlib.pyplot as plt"
   ]
  },
  {
   "cell_type": "code",
   "execution_count": 10,
   "metadata": {},
   "outputs": [
    {
     "name": "stdout",
     "output_type": "stream",
     "text": [
      "genome length = 1959987\n"
     ]
    }
   ],
   "source": [
    "#Read genome sequence file\n",
    "\n",
    "genome_sequence = ''\n",
    "with open('NC_011297.fna', 'r') as f :\n",
    "    f.readline()\n",
    "    \n",
    "    for line in f :\n",
    "        genome_sequence += line.strip()\n",
    "\n",
    "print('genome length = ' + str(len(genome_sequence)))"
   ]
  },
  {
   "cell_type": "code",
   "execution_count": 11,
   "metadata": {},
   "outputs": [],
   "source": [
    "#Problem 2.1 - 2.2\n",
    "states = ['AT', 'GC']\n",
    "nucleotides = ['A', 'C', 'G', 'T']\n",
    "    \n",
    "#Takes as input the emission sequence (genome) and probability parameters\n",
    "#Outputs the most likely state sequence using Viterbi decoding\n",
    "def viterbi_decode(emissions, init_prob, trans_prob, emission_prob) :\n",
    "    #TODO: Implement the Viterbi decoding algorithm\n",
    "    #Store the decoded state sequence in 'max_states'\n",
    "    #Store the state sequence log likelihood in 'max_states_logprob'\n",
    "    T = len(emissions)\n",
    "    \n",
    "    max_states_logprob = 0\n",
    "    max_states = [0] * T\n",
    "    \n",
    "    init_log_prob = np.log(init_prob)\n",
    "    trans_log_prob = np.log(trans_prob)\n",
    "    emission_log_prob = np.log(emission_prob)\n",
    "    \n",
    "    v = np.zeros((T + 1, len(states)))\n",
    "    bp = np.zeros((T + 1, len(states)))\n",
    "    v.fill(float(\"-inf\"))  \n",
    "\n",
    "    v[0] = init_log_prob\n",
    "    \n",
    "    for i in np.arange(1, T + 1):\n",
    "        nucleotide = nucleotides.index(emissions[i - 1])\n",
    "        for j in range(len(states)):\n",
    "            for k in range(len(states)):\n",
    "                vij = emission_log_prob[j][nucleotide] + v[i - 1][k] + trans_log_prob[k][j]\n",
    "                if vij > v[i][j]:\n",
    "                    v[i][j] = vij\n",
    "                    bp[i][j] = k\n",
    "    max_states[T - 1] = np.argmax(v[T])\n",
    "    max_states_logprob = np.max(v[T])\n",
    "    for i in np.arange(T - 2, -1, -1):\n",
    "        max_states[i] = int(bp[i + 1][max_states[i + 1]])\n",
    "    #max_states_labels = [states[i] for i in max_states]\n",
    "    return max_states_logprob, max_states\n",
    "\n",
    "#Takes as input the emission sequence (genome) and probability parameters\n",
    "#Outputs new (re-estimated) probability parameters\n",
    "def viterbi_train(emissions, init_prob, trans_prob, emission_prob, n_iter=10) :\n",
    "\n",
    "    log_probs = []\n",
    "    new_trans_prob = np.copy(trans_prob)\n",
    "    new_emission_prob = np.copy(emission_prob)\n",
    "    \n",
    "    #TODO: Implement Viterbi training to re-estimate parameters\n",
    "    #Store the new parameters in the 'new_' matrices\n",
    "    #Store the Viterbi-decoded state sequence log likelihood in 'log_probs' at each iteration of training\n",
    "    for i in range(n_iter):\n",
    "        print(f'Running iteration {i}')\n",
    "        # estimation\n",
    "        log_prob, prob_states = viterbi_decode(emissions, init_prob, new_trans_prob, new_emission_prob)\n",
    "        log_probs.append(log_prob)\n",
    "        \n",
    "        # maximization\n",
    "        # count emissions and state transitions\n",
    "        cts_init_prob = np.zeros(init_prob.shape)\n",
    "        cts_prev_prob = np.zeros(init_prob.shape)\n",
    "        cts_trans_prob = np.zeros(new_trans_prob.shape)\n",
    "        cts_emission_prob = np.zeros(new_emission_prob.shape)\n",
    "        prev_state = None\n",
    "        \n",
    "        for j in range(len(emissions)):\n",
    "            nucleotide = nucleotides.index(emissions[j])\n",
    "            curr_state = prob_states[j]\n",
    "            if prev_state != None:\n",
    "                cts_prev_prob[prev_state] += 1\n",
    "                cts_trans_prob[prev_state][curr_state] += 1\n",
    "            cts_emission_prob[curr_state][nucleotide] += 1\n",
    "            cts_init_prob[curr_state] += 1\n",
    "            \n",
    "            prev_state = curr_state\n",
    "        \n",
    "        # normalize the new probabilites\n",
    "        new_emission_prob[0] = cts_emission_prob[0] / cts_init_prob[0]\n",
    "        new_emission_prob[1] = cts_emission_prob[1] / cts_init_prob[1]\n",
    "        new_trans_prob[0] = cts_trans_prob[0] / cts_prev_prob[0]\n",
    "        new_trans_prob[1] = cts_trans_prob[1] / cts_prev_prob[1]\n",
    "        \n",
    "    return log_probs, new_trans_prob, new_emission_prob\n"
   ]
  },
  {
   "cell_type": "code",
   "execution_count": 12,
   "metadata": {},
   "outputs": [],
   "source": [
    "#Problem 2.1\n",
    "#Here we initialize the probability matrices for the HMM\n",
    "\n",
    "#TODO: Initialize P(s_{1})\n",
    "init_state = np.array([0.996, 0.004])\n",
    "\n",
    "#TODO: Initialize P(s_{t} | s_{t-1})\n",
    "init_trans = np.array([\n",
    "    [0.999, 0.001], #s_{t-1} = AT\n",
    "    [0.01, 0.99] #s_{t-1} = GC\n",
    "])\n",
    "\n",
    "#TODO: Initialize P(o_{t} | s_{t})\n",
    "init_emission = np.array([\n",
    "    [0.291, 0.209, 0.209, 0.291], #s_{t} = AT\n",
    "    [0.169, 0.331, 0.331, 0.169] #s_{t} = GC\n",
    "])\n"
   ]
  },
  {
   "cell_type": "code",
   "execution_count": 13,
   "metadata": {
    "scrolled": false
   },
   "outputs": [
    {
     "name": "stdout",
     "output_type": "stream",
     "text": [
      "max end log probability: -2640006.4047375\n"
     ]
    }
   ],
   "source": [
    "#Problem 2.1\n",
    "#TODO: Run Viterbi decoding to obtain the most likely state sequence for the genome\n",
    "max_end_logprob, prob_states = viterbi_decode(genome_sequence, init_state, init_trans, init_emission)\n",
    "print('max end log probability: ' + str(max_end_logprob))"
   ]
  },
  {
   "cell_type": "code",
   "execution_count": 14,
   "metadata": {},
   "outputs": [
    {
     "data": {
      "image/png": "[encoded data removed]",
      "text/plain": [
       "<Figure size 1008x216 with 1 Axes>"
      ]
     },
     "metadata": {
      "needs_background": "light"
     },
     "output_type": "display_data"
    }
   ],
   "source": [
    "#Problem 2.1\n",
    "#TODO: Plot the genomic nucleotide coordinates of detected GC-rich regions\n",
    "f = plt.figure(figsize=(14, 3))\n",
    "states_nonzero = np.nonzero(prob_states)\n",
    "plt.scatter(states_nonzero[0], np.zeros(len(states_nonzero[0])))\n",
    "plt.title(\"GC-rich locations in the sequence\", fontsize=16)\n",
    "plt.xlabel('Sequence position', fontsize=14)\n",
    "plt.ylabel('GC State', fontsize=14)\n",
    "plt.xticks(np.arange(0, len(prob_states), step=100000), rotation=45, fontsize=14)\n",
    "plt.yticks([], [])\n",
    "\n",
    "plt.xlim(0, len(prob_states))\n",
    "\n",
    "plt.tight_layout()\n",
    "plt.show()"
   ]
  },
  {
   "cell_type": "code",
   "execution_count": null,
   "metadata": {
    "scrolled": true
   },
   "outputs": [
    {
     "name": "stdout",
     "output_type": "stream",
     "text": [
      "Running iteration 0\n",
      "Running iteration 1\n",
      "Running iteration 2\n"
     ]
    }
   ],
   "source": [
    "#Problem 2.2\n",
    "new_log_probs, new_trans_prob, new_emission_prob = viterbi_train(genome_sequence, init_state, init_trans, init_emission, n_iter=11)\n",
    "\n",
    "print(f'Final log probability : {new_log_probs}')\n",
    "\n",
    "f = plt.figure(figsize=(9, 9))\n",
    "\n",
    "plt.plot(np.arange(len(new_log_probs)), new_log_probs, linewidth=2, c='darkgreen')\n",
    "\n",
    "plt.xlabel('EM iterations', fontsize=14)\n",
    "plt.ylabel('Log max probability', fontsize=14)\n",
    "plt.xticks(fontsize=14)\n",
    "plt.yticks(fontsize=14)\n",
    "\n",
    "plt.xlim(0, len(new_log_probs) - 1)\n",
    "\n",
    "plt.tight_layout()\n",
    "plt.show()\n",
    "\n",
    "\n",
    "#Problem 2.2\n",
    "new_max_end_logprob, new_prob_states = viterbi_decode(genome_sequence, init_state, new_trans_prob, new_emission_prob)\n",
    "print('max end log probabilities: ' + str(new_max_end_logprob))"
   ]
  },
  {
   "cell_type": "code",
   "execution_count": null,
   "metadata": {},
   "outputs": [],
   "source": [
    "#Problem 2.2\n",
    "#TODO: Plot the genomic coordinates of newly detected GC-rich regions along with the previous detected regions\n",
    "f, ax = plt.subplots(figsize=(14, 3))\n",
    "new_states_nonzero = np.nonzero(new_prob_states)\n",
    "plt.scatter(new_states_nonzero[0], np.zeros(len(new_states_nonzero[0])), c='b', label='post-EM')\n",
    "plt.scatter(states_nonzero[0], np.zeros(len(states_nonzero[0])), c='r', label='pre-EM')\n",
    "plt.title(\"GC-rich locations in the sequence\", fontsize=16)\n",
    "plt.xlabel('Sequence position', fontsize=14)\n",
    "plt.ylabel('GC State', fontsize=14)\n",
    "plt.xticks(np.arange(0, len(new_prob_states), step=100000), rotation=45, fontsize=14)\n",
    "plt.yticks([], [])\n",
    "\n",
    "ax.legend()\n",
    "plt.xlim(0, len(new_prob_states))\n",
    "\n",
    "plt.tight_layout()\n",
    "plt.show()"
   ]
  },
  {
   "cell_type": "code",
   "execution_count": null,
   "metadata": {},
   "outputs": [],
   "source": [
    "#Problem 2.2\n",
    "#TODO: Plot the genomic coordinates of newly detected GC-rich regions along with the previous detected regions\n",
    "f, ax = plt.subplots(figsize=(14, 3))\n",
    "new_states_nonzero = np.nonzero(new_prob_states)\n",
    "plt.scatter(new_states_nonzero[0], np.zeros(len(new_states_nonzero[0])), c='b', label='post-EM')\n",
    "plt.scatter(states_nonzero[0], np.ones(len(states_nonzero[0])), c='r', label='pre-EM')\n",
    "plt.title(\"GC-rich locations in the sequence\", fontsize=16)\n",
    "plt.xlabel('Sequence position', fontsize=14)\n",
    "plt.ylabel('GC State', fontsize=14)\n",
    "plt.xticks(np.arange(0, len(new_prob_states), step=100000), rotation=45, fontsize=14)\n",
    "plt.yticks([], [])\n",
    "\n",
    "ax.legend()\n",
    "plt.xlim(0, len(new_prob_states))\n",
    "\n",
    "plt.tight_layout()\n",
    "plt.show()"
   ]
  },
  {
   "cell_type": "code",
   "execution_count": null,
   "metadata": {},
   "outputs": [],
   "source": [
    "print(len(new_prob_states))"
   ]
  },
  {
   "cell_type": "code",
   "execution_count": null,
   "metadata": {},
   "outputs": [],
   "source": []
  }
 ],
 "metadata": {
  "kernelspec": {
   "display_name": "Python 3",
   "language": "python",
   "name": "python3"
  },
  "language_info": {
   "codemirror_mode": {
    "name": "ipython",
    "version": 3
   },
   "file_extension": ".py",
   "mimetype": "text/x-python",
   "name": "python",
   "nbconvert_exporter": "python",
   "pygments_lexer": "ipython3",
   "version": "3.7.3"
  }
 },
 "nbformat": 4,
 "nbformat_minor": 2
}
