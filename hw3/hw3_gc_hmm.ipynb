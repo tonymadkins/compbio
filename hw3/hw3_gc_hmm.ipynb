{
 "cells": [
  {
   "cell_type": "code",
   "execution_count": null,
   "metadata": {},
   "outputs": [],
   "source": [
    "import numpy as np\n",
    "import matplotlib.pyplot as plt"
   ]
  },
  {
   "cell_type": "code",
   "execution_count": null,
   "metadata": {},
   "outputs": [],
   "source": [
    "#Read genome sequence file\n",
    "\n",
    "genome_sequence = ''\n",
    "with open('NC_011297.fna', 'r') as f :\n",
    "    f.readline()\n",
    "    \n",
    "    for line in f :\n",
    "        genome_sequence += line.strip()\n",
    "\n",
    "print('genome length = ' + str(len(genome_sequence)))"
   ]
  },
  {
   "cell_type": "code",
   "execution_count": null,
   "metadata": {},
   "outputs": [],
   "source": [
    "#Problem 2.1 - 2.2\n",
    "\n",
    "#Takes as input the emission sequence (genome) and probability parameters\n",
    "#Outputs the most likely state sequence using Viterbi decoding\n",
    "def viterbi_decode(emissions, init_prob, trans_prob, emission_prob) :\n",
    "    T = len(emissions)\n",
    "    \n",
    "    max_states_logprob = 0\n",
    "    max_states = [0] * T\n",
    "    \n",
    "    #TODO: Implement the Viterbi decoding algorithm\n",
    "    #Store the decoded state sequence in 'max_states'\n",
    "    #Store the state sequence log likelihood in 'max_states_logprob'\n",
    "\n",
    "    return max_end_logprob, states_labeled\n",
    "\n",
    "#Takes as input the emission sequence (genome) and probability parameters\n",
    "#Outputs new (re-estimated) probability parameters\n",
    "def viterbi_train(emissions, init_prob, trans_prob, emission_prob, n_iter=10) :\n",
    "\n",
    "    log_probs = []\n",
    "    \n",
    "    new_init_prob = np.zeros(init_prob.shape)\n",
    "    new_trans_prob = np.zeros(trans_prob)\n",
    "    new_emission_prob = np.zeros(emission_prob)\n",
    "    \n",
    "    #TODO: Implement Viterbi training to re-estimate parameters\n",
    "    #Store the new parameters in the 'new_' matrices\n",
    "    #Store the Viterbi-decoded state sequence log likelihood in 'log_probs' at each iteration of training\n",
    "\n",
    "    return log_probs, new_init_prob, new_trans_prob, new_emission_prob\n",
    "\n"
   ]
  },
  {
   "cell_type": "code",
   "execution_count": null,
   "metadata": {},
   "outputs": [],
   "source": [
    "#Problem 2.1\n",
    "#Here we initialize the probability matrices for the HMM\n",
    "\n",
    "#TODO: Initialize P(s_{1})\n",
    "a0 = np.array([0.996, 0.004])\n",
    "\n",
    "#TODO: Initialize P(s_{t} | s_{t-1})\n",
    "a = np.array([\n",
    "    [0.999, 0.001], #s_{t-1} = AT\n",
    "    [0.01, 0.99] #s_{t-1} = GC\n",
    "])\n",
    "\n",
    "#TODO: Initialize P(o_{t} | s_{t})\n",
    "e = np.array([\n",
    "    [0.291, 0.209, 0.209, 0.291], #s_{t} = AT\n",
    "    [0.169, 0.331, 0.331, 0.169] #s_{t} = GC\n",
    "])\n"
   ]
  },
  {
   "cell_type": "code",
   "execution_count": null,
   "metadata": {
    "scrolled": false
   },
   "outputs": [],
   "source": [
    "#Problem 2.1\n",
    "#TODO: Run Viterbi decoding to obtain the most likely state sequence for the genome\n"
   ]
  },
  {
   "cell_type": "code",
   "execution_count": null,
   "metadata": {},
   "outputs": [],
   "source": [
    "#Problem 2.1\n",
    "#TODO: Plot the genomic nucleotide coordinates of detected GC-rich regions\n"
   ]
  },
  {
   "cell_type": "code",
   "execution_count": null,
   "metadata": {},
   "outputs": [],
   "source": [
    "#Problem 2.2\n",
    "#TODO: Update HMM parameters with Viterbi training\n",
    "#TODO: Plot genome sequence (emission sequence) likelihood vs. EM iteration\n"
   ]
  },
  {
   "cell_type": "code",
   "execution_count": null,
   "metadata": {},
   "outputs": [],
   "source": [
    "#Problem 2.2\n",
    "#TODO: Re-run viterbi decoding with the new probability parameters.\n"
   ]
  },
  {
   "cell_type": "code",
   "execution_count": null,
   "metadata": {},
   "outputs": [],
   "source": [
    "#Problem 2.2\n",
    "#TODO: Plot the genomic coordinates of newly detected GC-rich regions along with the previous detected regions\n"
   ]
  },
  {
   "cell_type": "code",
   "execution_count": null,
   "metadata": {},
   "outputs": [],
   "source": []
  }
 ],
 "metadata": {
  "kernelspec": {
   "display_name": "Python [conda env:anaconda3]",
   "language": "python",
   "name": "conda-env-anaconda3-py"
  },
  "language_info": {
   "codemirror_mode": {
    "name": "ipython",
    "version": 3
   },
   "file_extension": ".py",
   "mimetype": "text/x-python",
   "name": "python",
   "nbconvert_exporter": "python",
   "pygments_lexer": "ipython3",
   "version": "3.6.4"
  }
 },
 "nbformat": 4,
 "nbformat_minor": 2
}
