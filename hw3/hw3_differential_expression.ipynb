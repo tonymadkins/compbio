{
 "cells": [
  {
   "cell_type": "code",
   "execution_count": null,
   "metadata": {},
   "outputs": [],
   "source": [
    "import numpy as np\n",
    "import matplotlib.pyplot as plt\n",
    "from scipy.stats import ttest_ind"
   ]
  },
  {
   "cell_type": "code",
   "execution_count": null,
   "metadata": {},
   "outputs": [],
   "source": [
    "#Load data\n",
    "X = np.loadtxt('Zeisel_expr.txt').T\n",
    "genes = np.loadtxt('Zeisel_genes.txt', delimiter='\\n', dtype=str)\n",
    "labels = np.loadtxt('Zeisel_labels.txt', delimiter='\\n', dtype=str)\n"
   ]
  },
  {
   "cell_type": "code",
   "execution_count": null,
   "metadata": {},
   "outputs": [],
   "source": [
    "#Filter and log-transform count matrix\n",
    "\n",
    "keep_genes = np.sum(X, 0) >= 25\n",
    "X = X[:, keep_genes]\n",
    "genes = genes[keep_genes]\n",
    "\n",
    "# Log transform\n",
    "X = np.log2(1 + X)\n"
   ]
  },
  {
   "cell_type": "code",
   "execution_count": null,
   "metadata": {},
   "outputs": [],
   "source": [
    "#Useful Python-style tricks for working with the data:\n",
    "\n",
    "#Trick 1\n",
    "#You often want to slice the count matrix X to obtain only cells for a particular cell type (label).\n",
    "#One common use case is that you want to plot cells of each type with a distinct color.\n",
    "#Python supports condition-style boolean slicing which makes these kinds of queries easy.\n",
    "#For example, the below code selects only the Astrocytes cells (subset of rows).\n",
    "\n",
    "X_Astrocytes = X[labels == 'Astrocytes', :]\n",
    "\n",
    "#Trick 2\n",
    "#Sometimes you need to filter multiple arrays based on some condition.\n",
    "#Then you typically need to store the boolean condition as a separate variable.\n",
    "#For example, the below code filters both 'X' and 'genes' to get only genes whose name starts with a T.\n",
    "\n",
    "T_filter = np.array([gene[0] == 'T' for gene in genes.tolist()])\n",
    "\n",
    "genes_T = genes[T_filter]\n",
    "X_T = X[:, T_filter]\n",
    "\n",
    "#Trick 3\n",
    "#Sometimes you need to sort an array based on the values of some other array.\n",
    "#numpy has a good argsort function to accomplish this\n",
    "#For example, the below code sorts 'genes' based on total read count across all cells\n",
    "\n",
    "gene_sort_index = np.argsort(np.sum(X, axis=0))\n",
    "genes_sorted = genes[gene_sort_index]\n"
   ]
  },
  {
   "cell_type": "code",
   "execution_count": null,
   "metadata": {},
   "outputs": [],
   "source": [
    "#Problem 1.1 Differential Gene Expression\n",
    "\n",
    "#TODO: For each cell type (use the cell type labels from the data), identify the 3 most significant genes, using t-tests.\n"
   ]
  },
  {
   "cell_type": "code",
   "execution_count": null,
   "metadata": {},
   "outputs": [],
   "source": []
  }
 ],
 "metadata": {
  "kernelspec": {
   "display_name": "Python [conda env:anaconda3]",
   "language": "python",
   "name": "conda-env-anaconda3-py"
  },
  "language_info": {
   "codemirror_mode": {
    "name": "ipython",
    "version": 3
   },
   "file_extension": ".py",
   "mimetype": "text/x-python",
   "name": "python",
   "nbconvert_exporter": "python",
   "pygments_lexer": "ipython3",
   "version": "3.6.4"
  }
 },
 "nbformat": 4,
 "nbformat_minor": 2
}
